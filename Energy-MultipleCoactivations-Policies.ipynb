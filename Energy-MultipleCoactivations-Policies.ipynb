{
 "cells": [
  {
   "cell_type": "code",
   "execution_count": 1,
   "metadata": {},
   "outputs": [],
   "source": [
    "import pybullet as pyb\n",
    "import json\n",
    "import time\n",
    "import numpy as np\n",
    "import matplotlib.pyplot as plt\n",
    "from itertools import combinations\n"
   ]
  },
  {
   "cell_type": "code",
   "execution_count": 4,
   "metadata": {},
   "outputs": [],
   "source": [
    "# Set the paths to the coactivation file and the log file\n",
    "coactivation_file = \"/home/avbiswas/RLTCA/Learning_Analyser/trained/model/snake/caterpillar/pca_learn_ExcCoact_general_3d_9-14B/pca_euler_snakeV0_caterpillar_general_babble_0.86696607_9d.txt\"\n",
    "v_logs = \"/home/avbiswas/RLTCA/ReducedMimic/output/velocity_policy.dat\""
   ]
  },
  {
   "cell_type": "code",
   "execution_count": 5,
   "metadata": {},
   "outputs": [],
   "source": [
    "with open(coactivation_file) as f:\n",
    "    # Load Coactivatiion matrix of size [k, dof]\n",
    "    data = json.load(f)\n",
    "    coactivation_matrix = data[\"Basis\"]\n",
    "    \n",
    "    \n",
    "with open(v_logs) as tl:\n",
    "    # Load velocity/torque/poses data of size [samples, dof]\n",
    "    vels = np.loadtxt(tl)\n",
    "\n",
    "num_coactivations = len(coactivation_matrix)"
   ]
  },
  {
   "cell_type": "code",
   "execution_count": 6,
   "metadata": {},
   "outputs": [],
   "source": [
    "def getC_Hat(coactivations):\n",
    "    # Input: coactivation matrix of size [k, dof]\n",
    "    # Returns: inv(C' * C) * C'\n",
    "    coactivation_ = np.transpose(coactivations, [1, 0])\n",
    "    coactivation_t = coactivations\n",
    "    ct_c = np.matmul(coactivation_t, coactivation_)\n",
    "    ct_c_inv = np.linalg.inv(ct_c)\n",
    "    ct_c_inv_c = np.matmul(ct_c_inv, coactivation_t)\n",
    "    return ct_c_inv_c\n",
    "\n",
    "def getError(vector, C):\n",
    "    # Input: Vector : Any Query vector (velocity/torque) of dimension (dof, ) \n",
    "    # Input: C: coactivation matrix of size [k, dof]\n",
    "    \n",
    "    # Output: Error of the best fit model\n",
    "    # E = T - AC => E = T - inv(C'.C).C'.vector\n",
    "\n",
    "    ct_c_inv_c = getC_Hat(C)\n",
    "    A = np.matmul(ct_c_inv_c, vector)\n",
    "    fit = np.matmul(A, C)\n",
    "    error = vector - fit\n",
    "    return np.linalg.norm(error)/np.linalg.norm(vector)\n",
    "\n",
    "def select_coactivations(coactivation_matrix, indices=None):\n",
    "    # Selects individual coactivations from coactivation_matrix according to index list\n",
    "    # indices must be 0-indexed!\n",
    "    \n",
    "    if indices is None:\n",
    "        return coactivation_matrix\n",
    "    else:\n",
    "        return np.take(coactivation_matrix, indices, axis=0)"
   ]
  },
  {
   "cell_type": "code",
   "execution_count": 7,
   "metadata": {},
   "outputs": [
    {
     "name": "stdout",
     "output_type": "stream",
     "text": [
      "Coactivation: 1, Residual Mean: 0.996430, STD: 0.060690\n",
      "Coactivation: 2, Residual Mean: 0.845126, STD: 0.146488\n",
      "Coactivation: 3, Residual Mean: 0.992163, STD: 0.031793\n",
      "Coactivation: 4, Residual Mean: 0.996041, STD: 0.008218\n",
      "Coactivation: 5, Residual Mean: 0.963473, STD: 0.171450\n",
      "Coactivation: 6, Residual Mean: 0.988945, STD: 0.028860\n",
      "Coactivation: 7, Residual Mean: 0.995064, STD: 0.028245\n",
      "Coactivation: 8, Residual Mean: 0.992918, STD: 0.117543\n",
      "Coactivation: 9, Residual Mean: 0.994709, STD: 0.147327\n"
     ]
    }
   ],
   "source": [
    "# Check residuals for individual coactivations\n",
    "\n",
    "for i in range(num_coactivations):\n",
    "    residuals = []\n",
    "    for t in vels:\n",
    "        selected = select_coactivations(coactivation_matrix, [i])\n",
    "        err = getError(t, selected)\n",
    "        residuals.append(err)\n",
    "    print(\"Coactivation: {}, Residual Mean: {:.6f}, STD: {:.6f}\".format(i + 1, np.median(residuals), np.std(residuals)))"
   ]
  },
  {
   "cell_type": "code",
   "execution_count": 8,
   "metadata": {},
   "outputs": [
    {
     "name": "stdout",
     "output_type": "stream",
     "text": [
      "0.6807638794784479\n"
     ]
    }
   ],
   "source": [
    "# Check residual for a multiple coactivation\n",
    "\n",
    "list_to_check = [2, 5]\n",
    "selected = select_coactivations(coactivation_matrix, np.array(list_to_check) - 1)\n",
    "residuals = []\n",
    "for t in vels:\n",
    "    residuals.append(getError(t, selected))\n",
    "print(np.mean(residuals))"
   ]
  },
  {
   "cell_type": "code",
   "execution_count": 9,
   "metadata": {},
   "outputs": [
    {
     "name": "stdout",
     "output_type": "stream",
     "text": [
      "Coactivations: [1], Mean: 0.972, STD: 0.06\n",
      "Coactivations: [1 2], Mean: 0.795, STD: 0.17\n",
      "Coactivations: [1 2 3], Mean: 0.751, STD: 0.22\n",
      "Coactivations: [1 2 3 4], Mean: 0.741, STD: 0.22\n",
      "Coactivations: [1 2 3 4 5], Mean: 0.558, STD: 0.29\n",
      "Coactivations: [1 2 3 4 5 6], Mean: 0.518, STD: 0.30\n",
      "Coactivations: [1 2 3 4 5 6 7], Mean: 0.476, STD: 0.29\n",
      "Coactivations: [1 2 3 4 5 6 7 8], Mean: 0.289, STD: 0.29\n",
      "Coactivations: [1 2 3 4 5 6 7 8 9], Mean: 0.054, STD: 0.07\n"
     ]
    }
   ],
   "source": [
    "# Check residuals for coactivations [1...k]\n",
    "for i in range(1, num_coactivations + 1):\n",
    "    residuals = []\n",
    "    for t in vels:\n",
    "        selected = select_coactivations(coactivation_matrix, np.arange(0, i))\n",
    "        residuals.append(getError(t, selected))\n",
    "    print(\"Coactivations: {}, Mean: {:.3f}, STD: {:.2f}\".format(np.arange(0, i)+1, np.mean(residuals), np.std(residuals)))"
   ]
  },
  {
   "cell_type": "code",
   "execution_count": 10,
   "metadata": {},
   "outputs": [],
   "source": [
    "# Check residuals for all combinations of 'n_combo' coactivations\n",
    "\n",
    "n_combo = 2\n",
    "combs = combinations(np.arange(0, num_coactivations), n_combo) \n",
    "mean_dict = {}\n",
    "std_dict = {}\n",
    "for comb in combs:\n",
    "    residuals = []\n",
    "    selected = select_coactivations(coactivation_matrix, comb)\n",
    "    for t in vels:\n",
    "        # Loop over all query vectors and store the error\n",
    "        residuals.append(getError(t, selected))\n",
    "        \n",
    "    # Record the mean and std residuals of all the vectors\n",
    "    mean_residual = np.round(np.mean(residuals), 5)\n",
    "    std_residual = np.std(residuals)\n",
    "    comb_one_indexed = tuple([(cmb + 1) for cmb in comb])\n",
    "    mean_dict[comb_one_indexed] = mean_residual\n",
    "    std_dict[comb_one_indexed] = std_residual"
   ]
  },
  {
   "cell_type": "code",
   "execution_count": 12,
   "metadata": {},
   "outputs": [
    {
     "name": "stdout",
     "output_type": "stream",
     "text": [
      "Coactivations : (2, 5), Mean: 0.681, STD: 0.207\n",
      "Coactivations : (2, 9), Mean: 0.696, STD: 0.257\n",
      "Coactivations : (2, 8), Mean: 0.735, STD: 0.157\n",
      "Coactivations : (5, 9), Mean: 0.776, STD: 0.183\n",
      "Coactivations : (5, 8), Mean: 0.784, STD: 0.189\n",
      "Coactivations : (2, 3), Mean: 0.790, STD: 0.203\n",
      "Coactivations : (1, 2), Mean: 0.795, STD: 0.166\n",
      "Coactivations : (2, 7), Mean: 0.806, STD: 0.133\n",
      "Coactivations : (2, 6), Mean: 0.807, STD: 0.143\n",
      "Coactivations : (8, 9), Mean: 0.818, STD: 0.162\n",
      "Coactivations : (2, 4), Mean: 0.822, STD: 0.143\n",
      "Coactivations : (1, 5), Mean: 0.842, STD: 0.189\n",
      "Coactivations : (5, 7), Mean: 0.848, STD: 0.185\n",
      "Coactivations : (3, 5), Mean: 0.850, STD: 0.167\n",
      "Coactivations : (5, 6), Mean: 0.853, STD: 0.170\n"
     ]
    }
   ],
   "source": [
    "# Sort by mean residual error\n",
    "\n",
    "sorted_items = sorted(mean_dict.items(), key=lambda x: x[1])\n",
    "\n",
    "\n",
    "# Display top 15 combinations\n",
    "\n",
    "for combo, means in sorted_items[:15]:    \n",
    "    print(\"Coactivations : {}, Mean: {:.3f}, STD: {:.3f}\".format(combo, means, std_dict[combo]))"
   ]
  },
  {
   "cell_type": "code",
   "execution_count": null,
   "metadata": {},
   "outputs": [],
   "source": []
  }
 ],
 "metadata": {
  "kernelspec": {
   "display_name": "Python 3",
   "language": "python",
   "name": "python3"
  },
  "language_info": {
   "codemirror_mode": {
    "name": "ipython",
    "version": 3
   },
   "file_extension": ".py",
   "mimetype": "text/x-python",
   "name": "python",
   "nbconvert_exporter": "python",
   "pygments_lexer": "ipython3",
   "version": "3.6.10"
  }
 },
 "nbformat": 4,
 "nbformat_minor": 2
}
