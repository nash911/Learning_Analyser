{
 "cells": [
  {
   "cell_type": "code",
   "execution_count": 1,
   "metadata": {},
   "outputs": [],
   "source": [
    "#import pybullet as pyb\n",
    "import json\n",
    "import time\n",
    "import numpy as np\n",
    "import matplotlib.pyplot as plt\n",
    "from itertools import combinations\n",
    "from collections import OrderedDict\n"
   ]
  },
  {
   "cell_type": "code",
   "execution_count": 2,
   "metadata": {},
   "outputs": [],
   "source": [
    "# domain = 'torque'\n",
    "domain = 'velocity'\n",
    "# domain = 'pose'\n",
    "\n",
    "# time_scale = '_policy'\n",
    "time_scale = '_sim'\n",
    "\n",
    "if domain == 'torque':\n",
    "    time_scale = ''\n",
    "\n",
    "# Set the paths to the coactivation file and the log file\n",
    "v_logs = \"/home/nash/DeepMimic/output/\" + domain + time_scale + \".dat\"\n",
    "\n",
    "# coactivation_file = \"/home/nash/Downloads/Palmetto/Avinash/snake/caterpillar/pca_learn_ExcCoact_general_3d_9-14B/pca_euler_snakeV0_caterpillar_general_babble_0.86696607_9d.txt\"\n",
    "\n",
    "coactivation_file = \"/home/nash/Downloads/Palmetto/Avinash/cheetah/run/pca_general_C5d-1/pca_euler_cheetahV1_run_general_babble_0.3131973_5d.txt\""
   ]
  },
  {
   "cell_type": "code",
   "execution_count": 3,
   "metadata": {},
   "outputs": [
    {
     "name": "stdout",
     "output_type": "stream",
     "text": [
      "coactivation_idx: [1, 2, 3, 8, 11]\n"
     ]
    }
   ],
   "source": [
    "with open(coactivation_file) as f:\n",
    "    # Load Coactivatiion matrix of size [k, dof]\n",
    "    data = json.load(f)\n",
    "    coactivation_matrix = data[\"Basis\"]\n",
    "    coactivation_idx = data[\"coactivations\"][0] if type(data[\"coactivations\"]) is list else \\\n",
    "                       list(range(1, int(data[\"coactivations\"].strip('D')) + 1))\n",
    "    \n",
    "print(\"coactivation_idx:\", coactivation_idx)\n",
    "    \n",
    "with open(v_logs) as tl:\n",
    "    # Load velocity/torque/poses data of size [samples, dof]\n",
    "    vels = np.loadtxt(tl)\n",
    "\n",
    "num_coactivations = len(coactivation_matrix)\n",
    "\n",
    "metrics_dict = OrderedDict()"
   ]
  },
  {
   "cell_type": "code",
   "execution_count": 4,
   "metadata": {},
   "outputs": [],
   "source": [
    "def getC_Hat(coactivations):\n",
    "    # Input: coactivation matrix of size [k, dof]\n",
    "    # Returns: (C' * C)⁻¹ * C'\n",
    "    coactivation_ = np.transpose(coactivations, [1, 0]) # [d, k]\n",
    "    coactivation_t = coactivations  # [k, d]\n",
    "    ct_c = np.matmul(coactivation_t, coactivation_)\n",
    "    ct_c_inv = np.linalg.inv(ct_c)\n",
    "    ct_c_inv_c = np.matmul(ct_c_inv, coactivation_t)\n",
    "    return ct_c_inv_c\n",
    "\n",
    "def getError(vector, C):\n",
    "    # Input: Vector : Any Query vector (velocity/torque) of dimension (dof, ) \n",
    "    # Input: C: coactivation matrix of size [k, dof]\n",
    "    \n",
    "    # Output: Error of the best fit model\n",
    "    # E = T - AC => E = T - (C'.C)⁻¹.C'.vector\n",
    "\n",
    "    ct_c_inv_c = getC_Hat(C)\n",
    "    A = np.matmul(ct_c_inv_c, vector)\n",
    "    fit = np.matmul(A, C)\n",
    "    error = vector - fit\n",
    "    return np.linalg.norm(error)/np.linalg.norm(vector)\n",
    "\n",
    "def select_coactivations(coactivation_matrix, indices=None):\n",
    "    # Selects individual coactivations from coactivation_matrix according to index list\n",
    "    # indices must be 0-indexed!\n",
    "    \n",
    "    if indices is None:\n",
    "        return coactivation_matrix\n",
    "    else:\n",
    "        return np.take(coactivation_matrix, indices, axis=0)"
   ]
  },
  {
   "cell_type": "code",
   "execution_count": 5,
   "metadata": {},
   "outputs": [
    {
     "name": "stdout",
     "output_type": "stream",
     "text": [
      "Coactivation: 1, Residual Mean: 0.915416, STD: 0.133116\n",
      "Coactivation: 2, Residual Mean: 0.852375, STD: 0.135696\n",
      "Coactivation: 3, Residual Mean: 0.973265, STD: 0.038589\n",
      "Coactivation: 8, Residual Mean: 0.922107, STD: 0.061801\n",
      "Coactivation: 11, Residual Mean: 0.953899, STD: 0.042552\n",
      "\n",
      "Sorted Coactivations by Residual Mean\n",
      "--------------------------------------\n",
      "Coactivation: 2  Mean: 0.8523747518303912   STD: 0.13569609252147746\n",
      "Coactivation: 1  Mean: 0.9154163551616632   STD: 0.13311635078024625\n",
      "Coactivation: 8  Mean: 0.9221065067741542   STD: 0.061800758658326384\n",
      "Coactivation: 11  Mean: 0.9538989876189208   STD: 0.042551708256588446\n",
      "Coactivation: 3  Mean: 0.9732645897692375   STD: 0.038588810953400166\n"
     ]
    }
   ],
   "source": [
    "# Check residuals for individual coactivations\n",
    "\n",
    "for i, idx in zip(range(num_coactivations), coactivation_idx):\n",
    "    residuals = []\n",
    "    for t in vels:\n",
    "        selected = select_coactivations(coactivation_matrix, [i])\n",
    "        err = getError(t, selected)\n",
    "        residuals.append(err)\n",
    "    mean = np.mean(residuals)\n",
    "    std = np.std(residuals)\n",
    "    median = np.median(residuals)\n",
    "\n",
    "    stat_dict = OrderedDict()\n",
    "    stat_dict['mean'] = mean\n",
    "    stat_dict['std'] = std\n",
    "    stat_dict['median'] = median\n",
    "    \n",
    "    metrics_dict[idx] = stat_dict\n",
    "    \n",
    "    print(\"Coactivation: {}, Residual Mean: {:.6f}, STD: {:.6f}\".format(idx, mean, std))\n",
    "\n",
    "print(\"\\nSorted Coactivations by Residual Mean\")\n",
    "print(\"--------------------------------------\")\n",
    "for k, v in sorted(metrics_dict.items(), key=lambda k_v: k_v[1]['mean']):\n",
    "    print(\"Coactivation:\", k, \" Mean:\", v['mean'], \"  STD:\", v['std'])"
   ]
  },
  {
   "cell_type": "code",
   "execution_count": 6,
   "metadata": {},
   "outputs": [
    {
     "name": "stdout",
     "output_type": "stream",
     "text": [
      "0.8008715070330583\n"
     ]
    }
   ],
   "source": [
    "# Check residual for a multiple coactivation\n",
    "\n",
    "list_to_check = [2, 5]\n",
    "selected = select_coactivations(coactivation_matrix, np.array(list_to_check) - 1)\n",
    "residuals = []\n",
    "for t in vels:\n",
    "    residuals.append(getError(t, selected))\n",
    "print(np.mean(residuals))"
   ]
  },
  {
   "cell_type": "code",
   "execution_count": 7,
   "metadata": {},
   "outputs": [
    {
     "name": "stdout",
     "output_type": "stream",
     "text": [
      "Coactivations: [1], Mean: 0.915, STD: 0.13\n",
      "Coactivations: [1, 2], Mean: 0.755, STD: 0.18\n",
      "Coactivations: [1, 2, 3], Mean: 0.720, STD: 0.18\n",
      "Coactivations: [1, 2, 3, 8], Mean: 0.602, STD: 0.20\n",
      "Coactivations: [1, 2, 3, 8, 11], Mean: 0.528, STD: 0.19\n"
     ]
    }
   ],
   "source": [
    "# Check residuals for coactivations [1...k]\n",
    "for i in range(1, num_coactivations + 1):\n",
    "    residuals = []\n",
    "    for t in vels:\n",
    "        selected = select_coactivations(coactivation_matrix, np.arange(0, i))\n",
    "        residuals.append(getError(t, selected))\n",
    "    print(\"Coactivations: {}, Mean: {:.3f}, STD: {:.2f}\".format(coactivation_idx[:i], np.mean(residuals), np.std(residuals)))"
   ]
  },
  {
   "cell_type": "code",
   "execution_count": 8,
   "metadata": {},
   "outputs": [],
   "source": [
    "# Check residuals for all combinations of 'n_combo' coactivations\n",
    "\n",
    "n_combo = 2\n",
    "combs = combinations(np.arange(0, num_coactivations), n_combo) \n",
    "comb_pairs = combinations(np.array(coactivation_idx), n_combo) \n",
    "mean_dict = {}\n",
    "std_dict = {}\n",
    "for comb, comb_pair in zip(combs, comb_pairs):\n",
    "    residuals = []\n",
    "    selected = select_coactivations(coactivation_matrix, comb)\n",
    "    for t in vels:\n",
    "        # Loop over all query vectors and store the error\n",
    "        residuals.append(getError(t, selected))\n",
    "        \n",
    "    # Record the mean and std residuals of all the vectors\n",
    "    mean_residual = np.round(np.mean(residuals), 5)\n",
    "    std_residual = np.std(residuals)\n",
    "#     comb_one_indexed = tuple([(cmb + 1) for cmb in comb])\n",
    "    comb_one_indexed = comb_pair\n",
    "    mean_dict[comb_one_indexed] = mean_residual\n",
    "    std_dict[comb_one_indexed] = std_residual"
   ]
  },
  {
   "cell_type": "code",
   "execution_count": 9,
   "metadata": {},
   "outputs": [
    {
     "name": "stdout",
     "output_type": "stream",
     "text": [
      "Coactivations : (1, 2), Mean: 0.755, STD: 0.175\n",
      "Coactivations : (2, 8), Mean: 0.756, STD: 0.166\n",
      "Coactivations : (2, 11), Mean: 0.801, STD: 0.124\n",
      "Coactivations : (2, 3), Mean: 0.821, STD: 0.141\n",
      "Coactivations : (1, 8), Mean: 0.829, STD: 0.152\n",
      "Coactivations : (1, 11), Mean: 0.865, STD: 0.136\n",
      "Coactivations : (8, 11), Mean: 0.871, STD: 0.081\n",
      "Coactivations : (1, 3), Mean: 0.886, STD: 0.138\n",
      "Coactivations : (3, 8), Mean: 0.894, STD: 0.067\n",
      "Coactivations : (3, 11), Mean: 0.926, STD: 0.059\n"
     ]
    }
   ],
   "source": [
    "# Sort by mean residual error\n",
    "\n",
    "sorted_items = sorted(mean_dict.items(), key=lambda x: x[1])\n",
    "\n",
    "\n",
    "# Display top 15 combinations\n",
    "\n",
    "for combo, means in sorted_items[:15]:    \n",
    "    print(\"Coactivations : {}, Mean: {:.3f}, STD: {:.3f}\".format(combo, means, std_dict[combo]))"
   ]
  },
  {
   "cell_type": "code",
   "execution_count": null,
   "metadata": {},
   "outputs": [],
   "source": []
  }
 ],
 "metadata": {
  "kernelspec": {
   "display_name": "Python 3",
   "language": "python",
   "name": "python3"
  },
  "language_info": {
   "codemirror_mode": {
    "name": "ipython",
    "version": 3
   },
   "file_extension": ".py",
   "mimetype": "text/x-python",
   "name": "python",
   "nbconvert_exporter": "python",
   "pygments_lexer": "ipython3",
   "version": "3.6.7"
  }
 },
 "nbformat": 4,
 "nbformat_minor": 2
}
